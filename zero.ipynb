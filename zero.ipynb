{
 "cells": [
  {
   "cell_type": "code",
   "execution_count": null,
   "metadata": {
    "collapsed": true
   },
   "outputs": [],
   "source": [
    "import numpy as np\n",
    "import pandas as pd\n",
    "import yaml\n",
    "import os\n",
    "import re\n",
    "from transliterate import translit\n"
   ]
  },
  {
   "cell_type": "code",
   "execution_count": null,
   "metadata": {
    "collapsed": false
   },
   "outputs": [],
   "source": [
    "BASE_DIR = os.path.normpath(os.getcwd())\n",
    "SHEET_NAME = \"Входные данные\"\n",
    "\n",
    "config = yaml.load(\n",
    "    stream=open(\n",
    "        file=os.path.join(BASE_DIR, 'config.yml'),\n",
    "        mode='r',\n",
    "        encoding='utf-8'\n",
    "    ),\n",
    "    Loader=yaml.Loader\n",
    ")\n",
    "\n",
    "FILE_PATH = config['out_file']['xlsx_write_file']\n",
    "SEARCH_COL_NAME = config['col_names']['search_col_name']"
   ]
  },
  {
   "cell_type": "code",
   "execution_count": null,
   "metadata": {
    "collapsed": false
   },
   "outputs": [],
   "source": [
    "df = pd.read_excel(FILE_PATH,sheet_name=\"Все Данные с API\")"
   ]
  },
  {
   "cell_type": "code",
   "execution_count": null,
   "metadata": {
    "collapsed": false
   },
   "outputs": [],
   "source": [
    "df.head()"
   ]
  },
  {
   "cell_type": "code",
   "execution_count": null,
   "metadata": {
    "collapsed": false
   },
   "outputs": [],
   "source": [
    "def trans(txt: str):\n",
    "    txt = str(txt)\n",
    "    if re.search('[a-zA-Z]', txt):\n",
    "        txt = translit(txt, 'ru')\n",
    "    return txt"
   ]
  },
  {
   "cell_type": "code",
   "execution_count": null,
   "metadata": {
    "collapsed": false
   },
   "outputs": [],
   "source": [
    "df.rename(columns={'Название': SEARCH_COL_NAME}, inplace=True)\n",
    "df['Название'] = df[SEARCH_COL_NAME]\n",
    "\n",
    "import time\n",
    "\n",
    "t = time.process_time()\n",
    "df[SEARCH_COL_NAME] = np.vectorize(trans)(df[SEARCH_COL_NAME])\n",
    "print(time.process_time() - t)"
   ]
  },
  {
   "cell_type": "code",
   "execution_count": null,
   "metadata": {
    "collapsed": false
   },
   "outputs": [],
   "source": [
    "0.03125 * 1_000_000 / 1000"
   ]
  },
  {
   "cell_type": "code",
   "execution_count": null,
   "metadata": {
    "collapsed": false
   },
   "outputs": [],
   "source": [
    "writer = pd.ExcelWriter(FILE_PATH, engine = 'xlsxwriter')\n",
    "df.to_excel(writer, sheet_name = SHEET_NAME, index=False)\n",
    "writer.close()"
   ]
  },
  {
   "cell_type": "code",
   "execution_count": 3,
   "metadata": {},
   "outputs": [
    {
     "name": "stdout",
     "output_type": "stream",
     "text": [
      "Unable to create Все Данные с API. Already exists\n",
      "1: request to api with key: \"f9b61e9fa9abb463ab4ba37411d3d9715c6b5cc3\", name: \"Леруа Мерлен\"\n",
      "Got output from Api\n"
     ]
    },
    {
     "ename": "TypeError",
     "evalue": "list indices must be integers or slices, not str",
     "output_type": "error",
     "traceback": [
      "\u001b[1;31m---------------------------------------------------------------------------\u001b[0m",
      "\u001b[1;31mTypeError\u001b[0m                                 Traceback (most recent call last)",
      "Cell \u001b[1;32mIn [3], line 1\u001b[0m\n\u001b[1;32m----> 1\u001b[0m \u001b[39mimport\u001b[39;00m \u001b[39mfirst\u001b[39;00m\n\u001b[0;32m      2\u001b[0m api_keys, company_names, file_name, url, SEARCH_COL_NAME \u001b[39m=\u001b[39m first\u001b[39m.\u001b[39minit()\n\u001b[0;32m      3\u001b[0m key \u001b[39m=\u001b[39m api_keys[\u001b[39m0\u001b[39m]\n",
      "File \u001b[1;32mc:\\Users\\user\\Documents\\Python_Scripts\\checko_project\\checko2\\first.py:367\u001b[0m\n\u001b[0;32m    364\u001b[0m data \u001b[39m=\u001b[39m first\u001b[39m.\u001b[39mrequest_to_api_dadata(url,key, company[\u001b[39m0\u001b[39m], \u001b[39m0\u001b[39m)\n\u001b[0;32m    366\u001b[0m \u001b[39mfor\u001b[39;00m c \u001b[39min\u001b[39;00m data:\n\u001b[1;32m--> 367\u001b[0m     check_city(company_row\u001b[39m=\u001b[39;49mcompany)\n\u001b[0;32m    368\u001b[0m     \u001b[39m# print(len(company))\u001b[39;00m\n\u001b[0;32m    369\u001b[0m \n\u001b[0;32m    370\u001b[0m \u001b[39m# %%\u001b[39;00m\n",
      "File \u001b[1;32mc:\\Users\\user\\Documents\\Python_Scripts\\checko_project\\checko2\\first.py:351\u001b[0m, in \u001b[0;36mcheck_city\u001b[1;34m(company_row)\u001b[0m\n\u001b[0;32m    350\u001b[0m \u001b[39mdef\u001b[39;00m \u001b[39mcheck_city\u001b[39m(company_row):\n\u001b[1;32m--> 351\u001b[0m     cur_data \u001b[39m=\u001b[39m company_row[\u001b[39m'\u001b[39;49m\u001b[39mdata\u001b[39;49m\u001b[39m'\u001b[39;49m]\n\u001b[0;32m    352\u001b[0m     \u001b[39mif\u001b[39;00m \u001b[39m'\u001b[39m\u001b[39madress\u001b[39m\u001b[39m'\u001b[39m \u001b[39min\u001b[39;00m cur_data \u001b[39mand\u001b[39;00m cur_data[\u001b[39m'\u001b[39m\u001b[39maddress\u001b[39m\u001b[39m'\u001b[39m] \u001b[39mis\u001b[39;00m \u001b[39mnot\u001b[39;00m \u001b[39mNone\u001b[39;00m:\n\u001b[0;32m    353\u001b[0m         address \u001b[39m=\u001b[39m cur_data[\u001b[39m'\u001b[39m\u001b[39maddress\u001b[39m\u001b[39m'\u001b[39m][\u001b[39m'\u001b[39m\u001b[39mvalue\u001b[39m\u001b[39m'\u001b[39m]\u001b[39m.\u001b[39mlower()\n",
      "\u001b[1;31mTypeError\u001b[0m: list indices must be integers or slices, not str"
     ]
    }
   ],
   "source": [
    "import first\n",
    "api_keys, company_names, file_name, url, SEARCH_COL_NAME = first.init()\n",
    "key = api_keys[0]"
   ]
  },
  {
   "cell_type": "code",
   "execution_count": null,
   "metadata": {},
   "outputs": [],
   "source": [
    "def check_city(company_row, city):\n",
    "    cur_data = company_row['data']\n",
    "    if 'adress' in cur_data and cur_data['address'] is not None:\n",
    "        print(cur_data)\n",
    "        address = cur_data['address']['value'].lower()\n",
    "        right_city =  'москва' in address or city.lower() in address\n",
    "        print(f\"Фильтрую по адресу: {address}, совпадение с городом {city} либо Москва - {right_city}\")\n"
   ]
  },
  {
   "cell_type": "code",
   "execution_count": null,
   "metadata": {},
   "outputs": [],
   "source": [
    "company = ['Леруа Мерлен', 'Делко', 'Бринекс']\n",
    "city = ['Россия', 'Набережные Челны', 'Набережные Челны']\n",
    "\n",
    "data = first.request_to_api_dadata(url,key, company[0], 0, 0)\n",
    "data"
   ]
  },
  {
   "cell_type": "code",
   "execution_count": null,
   "metadata": {},
   "outputs": [
    {
     "ename": "NameError",
     "evalue": "name 'data' is not defined",
     "output_type": "error",
     "traceback": [
      "\u001b[1;31m---------------------------------------------------------------------------\u001b[0m",
      "\u001b[1;31mNameError\u001b[0m                                 Traceback (most recent call last)",
      "Cell \u001b[1;32mIn [2], line 1\u001b[0m\n\u001b[1;32m----> 1\u001b[0m \u001b[39mfor\u001b[39;00m c \u001b[39min\u001b[39;00m data:\n\u001b[0;32m      2\u001b[0m     check_city(c, city\u001b[39m=\u001b[39mcity[\u001b[39m0\u001b[39m])\n",
      "\u001b[1;31mNameError\u001b[0m: name 'data' is not defined"
     ]
    }
   ],
   "source": [
    "for c in data:\n",
    "    check_city(c, city=city[0])"
   ]
  },
  {
   "cell_type": "code",
   "execution_count": null,
   "metadata": {},
   "outputs": [],
   "source": []
  }
 ],
 "metadata": {
  "kernelspec": {
   "display_name": "Python 3.10.8 64-bit",
   "language": "python",
   "name": "python3"
  },
  "language_info": {
   "codemirror_mode": {
    "name": "ipython",
    "version": 3
   },
   "file_extension": ".py",
   "mimetype": "text/x-python",
   "name": "python",
   "nbconvert_exporter": "python",
   "pygments_lexer": "ipython3",
   "version": "3.10.8"
  },
  "vscode": {
   "interpreter": {
    "hash": "fb4569285eef3a3450cb62085a5b1e0da4bce0af555edc33dcf29baf3acc1368"
   }
  }
 },
 "nbformat": 4,
 "nbformat_minor": 0
}
